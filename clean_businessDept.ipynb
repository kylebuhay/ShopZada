{
 "cells": [
  {
   "cell_type": "markdown",
   "id": "54a9894c-ce23-4d70-85a5-d6c7978ceb52",
   "metadata": {},
   "source": [
    "# Import Packages"
   ]
  },
  {
   "cell_type": "code",
   "execution_count": 35,
   "id": "374556e1-98b5-4f0a-856d-41f5da037fad",
   "metadata": {},
   "outputs": [],
   "source": [
    "import pandas as pd\n",
    "import numpy as np\n",
    "import openpyxl as op"
   ]
  },
  {
   "cell_type": "markdown",
   "id": "7459d618-1c4d-491f-8550-a46edfb169ef",
   "metadata": {},
   "source": [
    "# Load the Data"
   ]
  },
  {
   "cell_type": "code",
   "execution_count": 36,
   "id": "2d41a554-5b32-4439-933b-a6b5d1430854",
   "metadata": {},
   "outputs": [],
   "source": [
    "df_productlist = pd.read_excel('product_list.xlsx')"
   ]
  },
  {
   "cell_type": "code",
   "execution_count": 37,
   "id": "ec8bfb51-3600-4fa2-b913-2be28620f928",
   "metadata": {},
   "outputs": [
    {
     "data": {
      "text/html": [
       "<div>\n",
       "<style scoped>\n",
       "    .dataframe tbody tr th:only-of-type {\n",
       "        vertical-align: middle;\n",
       "    }\n",
       "\n",
       "    .dataframe tbody tr th {\n",
       "        vertical-align: top;\n",
       "    }\n",
       "\n",
       "    .dataframe thead th {\n",
       "        text-align: right;\n",
       "    }\n",
       "</style>\n",
       "<table border=\"1\" class=\"dataframe\">\n",
       "  <thead>\n",
       "    <tr style=\"text-align: right;\">\n",
       "      <th></th>\n",
       "      <th>Unnamed: 0</th>\n",
       "      <th>product_id</th>\n",
       "      <th>product_name</th>\n",
       "      <th>product_type</th>\n",
       "      <th>price</th>\n",
       "    </tr>\n",
       "  </thead>\n",
       "  <tbody>\n",
       "    <tr>\n",
       "      <th>0</th>\n",
       "      <td>0</td>\n",
       "      <td>PRODUCT16794</td>\n",
       "      <td>Grandmas swedish thin pancakes</td>\n",
       "      <td>readymade_breakfast</td>\n",
       "      <td>12.81</td>\n",
       "    </tr>\n",
       "    <tr>\n",
       "      <th>1</th>\n",
       "      <td>1</td>\n",
       "      <td>PRODUCT61957</td>\n",
       "      <td>Chili jack oven omelet</td>\n",
       "      <td>readymade_breakfast</td>\n",
       "      <td>9.95</td>\n",
       "    </tr>\n",
       "    <tr>\n",
       "      <th>2</th>\n",
       "      <td>2</td>\n",
       "      <td>PRODUCT23890</td>\n",
       "      <td>Baked pears</td>\n",
       "      <td>readymade_breakfast</td>\n",
       "      <td>10.04</td>\n",
       "    </tr>\n",
       "    <tr>\n",
       "      <th>3</th>\n",
       "      <td>3</td>\n",
       "      <td>PRODUCT52912</td>\n",
       "      <td>Best buttermilk pancakes</td>\n",
       "      <td>readymade_breakfast</td>\n",
       "      <td>5.83</td>\n",
       "    </tr>\n",
       "    <tr>\n",
       "      <th>4</th>\n",
       "      <td>4</td>\n",
       "      <td>PRODUCT56387</td>\n",
       "      <td>Blackberry breakfast bars</td>\n",
       "      <td>readymade_breakfast</td>\n",
       "      <td>14.00</td>\n",
       "    </tr>\n",
       "  </tbody>\n",
       "</table>\n",
       "</div>"
      ],
      "text/plain": [
       "   Unnamed: 0    product_id                    product_name  \\\n",
       "0           0  PRODUCT16794  Grandmas swedish thin pancakes   \n",
       "1           1  PRODUCT61957          Chili jack oven omelet   \n",
       "2           2  PRODUCT23890                     Baked pears   \n",
       "3           3  PRODUCT52912        Best buttermilk pancakes   \n",
       "4           4  PRODUCT56387       Blackberry breakfast bars   \n",
       "\n",
       "          product_type  price  \n",
       "0  readymade_breakfast  12.81  \n",
       "1  readymade_breakfast   9.95  \n",
       "2  readymade_breakfast  10.04  \n",
       "3  readymade_breakfast   5.83  \n",
       "4  readymade_breakfast  14.00  "
      ]
     },
     "execution_count": 37,
     "metadata": {},
     "output_type": "execute_result"
    }
   ],
   "source": [
    "# Print Product list\n",
    "df_productlist.head()"
   ]
  },
  {
   "cell_type": "markdown",
   "id": "6d8f93c5-128b-4753-b559-7802a58661d1",
   "metadata": {},
   "source": [
    "# Data Cleaning"
   ]
  },
  {
   "cell_type": "code",
   "execution_count": 26,
   "id": "11dadaad-edba-4257-8610-5a7339983925",
   "metadata": {},
   "outputs": [],
   "source": [
    "# 1. Remove Unnamed Column (possible column for index)"
   ]
  },
  {
   "cell_type": "code",
   "execution_count": 38,
   "id": "b4205d07-e91c-4158-9b67-d65ed26367ab",
   "metadata": {},
   "outputs": [],
   "source": [
    "df_pl_cleaned = df_productlist.drop(columns=['Unnamed: 0'])"
   ]
  },
  {
   "cell_type": "code",
   "execution_count": 28,
   "id": "8d69e2cb-e092-4ba0-b65a-c69290bc0960",
   "metadata": {},
   "outputs": [],
   "source": [
    "# 2. Check for any missing or null values"
   ]
  },
  {
   "cell_type": "code",
   "execution_count": 39,
   "id": "aff12519-8370-48f6-9e81-3b8e09d695aa",
   "metadata": {},
   "outputs": [],
   "source": [
    "missing_values = df_pl_cleaned.isnull().sum()"
   ]
  },
  {
   "cell_type": "code",
   "execution_count": null,
   "id": "d3f87e66-7816-4536-8eca-449613b9343e",
   "metadata": {},
   "outputs": [],
   "source": [
    "# 3. Check for duplicate entries"
   ]
  },
  {
   "cell_type": "code",
   "execution_count": 40,
   "id": "3dc1427e-a2b0-4d7d-b8e7-5b7ea285e3ae",
   "metadata": {},
   "outputs": [],
   "source": [
    "duplicates = df_pl_cleaned.duplicated(subset=['product_id', 'product_name']).sum()"
   ]
  },
  {
   "cell_type": "code",
   "execution_count": 42,
   "id": "abb3fa3d-7fd6-43c1-979d-b45c14bfbdf3",
   "metadata": {},
   "outputs": [],
   "source": [
    "# Step 4: Standardize the format of text fields\n",
    "# Capitalizing the first letter of each word in product"
   ]
  },
  {
   "cell_type": "code",
   "execution_count": 41,
   "id": "5d613df6-83a0-4249-8663-c1f66885f895",
   "metadata": {},
   "outputs": [],
   "source": [
    "df_pl_cleaned['product_name'] = df_pl_cleaned['product_name'].str.title()\n",
    "df_pl_cleaned['product_type'] = df_pl_cleaned['product_type'].str.title()"
   ]
  },
  {
   "cell_type": "code",
   "execution_count": 43,
   "id": "bc17753d-1d51-47a4-9d8a-50dc92e0df1c",
   "metadata": {},
   "outputs": [],
   "source": [
    "# Step 5: Validate and correct data types\n",
    "# To ensuring 'price' is a numeric type"
   ]
  },
  {
   "cell_type": "code",
   "execution_count": 51,
   "id": "423f8aaa-9cad-465f-8103-0e7b680768fb",
   "metadata": {},
   "outputs": [],
   "source": [
    "df_pl_cleaned['price'] = pd.to_numeric(df_pl_cleaned['price'], errors='coerce')"
   ]
  },
  {
   "cell_type": "markdown",
   "id": "83fc30e0-4b32-4342-857a-8a1d7ca1502d",
   "metadata": {},
   "source": [
    "# Final"
   ]
  },
  {
   "cell_type": "code",
   "execution_count": 53,
   "id": "72648f63-4bd4-4974-8949-b37d1a8f1000",
   "metadata": {},
   "outputs": [
    {
     "data": {
      "text/html": [
       "<div>\n",
       "<style scoped>\n",
       "    .dataframe tbody tr th:only-of-type {\n",
       "        vertical-align: middle;\n",
       "    }\n",
       "\n",
       "    .dataframe tbody tr th {\n",
       "        vertical-align: top;\n",
       "    }\n",
       "\n",
       "    .dataframe thead th {\n",
       "        text-align: right;\n",
       "    }\n",
       "</style>\n",
       "<table border=\"1\" class=\"dataframe\">\n",
       "  <thead>\n",
       "    <tr style=\"text-align: right;\">\n",
       "      <th></th>\n",
       "      <th>product_id</th>\n",
       "      <th>product_name</th>\n",
       "      <th>product_type</th>\n",
       "      <th>price</th>\n",
       "    </tr>\n",
       "  </thead>\n",
       "  <tbody>\n",
       "    <tr>\n",
       "      <th>0</th>\n",
       "      <td>PRODUCT16794</td>\n",
       "      <td>Grandmas Swedish Thin Pancakes</td>\n",
       "      <td>Readymade_Breakfast</td>\n",
       "      <td>12.81</td>\n",
       "    </tr>\n",
       "    <tr>\n",
       "      <th>1</th>\n",
       "      <td>PRODUCT61957</td>\n",
       "      <td>Chili Jack Oven Omelet</td>\n",
       "      <td>Readymade_Breakfast</td>\n",
       "      <td>9.95</td>\n",
       "    </tr>\n",
       "    <tr>\n",
       "      <th>2</th>\n",
       "      <td>PRODUCT23890</td>\n",
       "      <td>Baked Pears</td>\n",
       "      <td>Readymade_Breakfast</td>\n",
       "      <td>10.04</td>\n",
       "    </tr>\n",
       "    <tr>\n",
       "      <th>3</th>\n",
       "      <td>PRODUCT52912</td>\n",
       "      <td>Best Buttermilk Pancakes</td>\n",
       "      <td>Readymade_Breakfast</td>\n",
       "      <td>5.83</td>\n",
       "    </tr>\n",
       "    <tr>\n",
       "      <th>4</th>\n",
       "      <td>PRODUCT56387</td>\n",
       "      <td>Blackberry Breakfast Bars</td>\n",
       "      <td>Readymade_Breakfast</td>\n",
       "      <td>14.00</td>\n",
       "    </tr>\n",
       "    <tr>\n",
       "      <th>...</th>\n",
       "      <td>...</td>\n",
       "      <td>...</td>\n",
       "      <td>...</td>\n",
       "      <td>...</td>\n",
       "    </tr>\n",
       "    <tr>\n",
       "      <th>745</th>\n",
       "      <td>PRODUCT35203</td>\n",
       "      <td>Tomato</td>\n",
       "      <td>Grocery</td>\n",
       "      <td>17.28</td>\n",
       "    </tr>\n",
       "    <tr>\n",
       "      <th>746</th>\n",
       "      <td>PRODUCT34682</td>\n",
       "      <td>Bowl</td>\n",
       "      <td>Kitchenware</td>\n",
       "      <td>17.28</td>\n",
       "    </tr>\n",
       "    <tr>\n",
       "      <th>747</th>\n",
       "      <td>PRODUCT07137</td>\n",
       "      <td>Dehumidifier</td>\n",
       "      <td>Electronics And Technology</td>\n",
       "      <td>38.07</td>\n",
       "    </tr>\n",
       "    <tr>\n",
       "      <th>748</th>\n",
       "      <td>PRODUCT29484</td>\n",
       "      <td>Rice</td>\n",
       "      <td>Grocery</td>\n",
       "      <td>17.28</td>\n",
       "    </tr>\n",
       "    <tr>\n",
       "      <th>749</th>\n",
       "      <td>PRODUCT22046</td>\n",
       "      <td>Dove Deodorant</td>\n",
       "      <td>Health And Hygiene</td>\n",
       "      <td>6.11</td>\n",
       "    </tr>\n",
       "  </tbody>\n",
       "</table>\n",
       "<p>750 rows × 4 columns</p>\n",
       "</div>"
      ],
      "text/plain": [
       "       product_id                    product_name                product_type  \\\n",
       "0    PRODUCT16794  Grandmas Swedish Thin Pancakes         Readymade_Breakfast   \n",
       "1    PRODUCT61957          Chili Jack Oven Omelet         Readymade_Breakfast   \n",
       "2    PRODUCT23890                     Baked Pears         Readymade_Breakfast   \n",
       "3    PRODUCT52912        Best Buttermilk Pancakes         Readymade_Breakfast   \n",
       "4    PRODUCT56387       Blackberry Breakfast Bars         Readymade_Breakfast   \n",
       "..            ...                             ...                         ...   \n",
       "745  PRODUCT35203                          Tomato                     Grocery   \n",
       "746  PRODUCT34682                            Bowl                 Kitchenware   \n",
       "747  PRODUCT07137                    Dehumidifier  Electronics And Technology   \n",
       "748  PRODUCT29484                            Rice                     Grocery   \n",
       "749  PRODUCT22046                  Dove Deodorant          Health And Hygiene   \n",
       "\n",
       "     price  \n",
       "0    12.81  \n",
       "1     9.95  \n",
       "2    10.04  \n",
       "3     5.83  \n",
       "4    14.00  \n",
       "..     ...  \n",
       "745  17.28  \n",
       "746  17.28  \n",
       "747  38.07  \n",
       "748  17.28  \n",
       "749   6.11  \n",
       "\n",
       "[750 rows x 4 columns]"
      ]
     },
     "execution_count": 53,
     "metadata": {},
     "output_type": "execute_result"
    }
   ],
   "source": [
    "df_pl_cleaned"
   ]
  },
  {
   "cell_type": "code",
   "execution_count": null,
   "id": "1f12f8f6-ccf4-41c4-b085-0528d8aaa5a9",
   "metadata": {},
   "outputs": [],
   "source": []
  }
 ],
 "metadata": {
  "kernelspec": {
   "display_name": "Python 3 (ipykernel)",
   "language": "python",
   "name": "python3"
  },
  "language_info": {
   "codemirror_mode": {
    "name": "ipython",
    "version": 3
   },
   "file_extension": ".py",
   "mimetype": "text/x-python",
   "name": "python",
   "nbconvert_exporter": "python",
   "pygments_lexer": "ipython3",
   "version": "3.12.0"
  }
 },
 "nbformat": 4,
 "nbformat_minor": 5
}
